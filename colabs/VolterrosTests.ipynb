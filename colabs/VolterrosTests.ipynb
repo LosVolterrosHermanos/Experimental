{
 "cells": [
  {
   "cell_type": "code",
   "execution_count": 1,
   "metadata": {},
   "outputs": [],
   "source": [
    "import jax\n",
    "import jax.numpy as jnp\n",
    "import numpy as np\n"
   ]
  },
  {
   "cell_type": "code",
   "execution_count": null,
   "metadata": {},
   "outputs": [],
   "source": [
    "alpha= 1.0\n",
    "beta= 0.4\n",
    "eta = 0.0\n",
    "\n",
    "#SGD steps\n",
    "sgd_steps = 10**1\n",
    "delta_constant = jnp.maximum(2.0  + ( 2.0 * beta - 1 ) / (alpha ), 2.0 - 1.0 / alpha) + 1.0 #Need to be bigger than 2 + (2 * beta - 1) / (2 * alpha)\n",
    "print('delta is {:.2f}'.format(delta_constant))\n",
    "\n",
    "D = 500\n",
    "V = 5 * D\n",
    "sgd_batch = 1 #jnp.int32(0.2*D)\n",
    "\n",
    "omega = 1.0/jnp.float32(D)\n",
    "traceK = jnp.sum(jnp.arange(1,V+1,dtype=jnp.float32)**(-2*alpha))\n",
    "print('traceK is {:.2f}'.format(traceK))\n",
    "\n",
    "key,nkey = jax.random.split(key)\n",
    "W = jnp.sqrt(omega)*jax.random.normal(nkey, (V,D))\n",
    "data_scale = jnp.power(jnp.arange(1,V+1,dtype=jnp.float32),-1.0*alpha) #D^(1/2)\n",
    "\n",
    "#move power-scaling from X's to beta and W to save computation\n",
    "check_beta = jnp.power(jnp.arange(1,V+1,dtype=jnp.float32),-1.0*(beta+alpha)) #D^(1/2) b\n",
    "check_beta = jnp.reshape(check_beta,(V,1))\n",
    "\n",
    "check_W1 = jnp.einsum('i, ij->ij', data_scale, W) #D^(1/2) W\n",
    "WtranD = jnp.einsum('ij, i->ji', W, data_scale**2) #WtranD\n",
    "check_W = jnp.reshape(data_scale,(V,1)) * W #D^(1/2) W\n",
    "\n",
    "hatK = jnp.einsum('ji,jk->ik', check_W1, check_W1)\n",
    "\n",
    "def ab_oracle(key,batch):\n",
    "  key, nkey = jax.random.split(key)\n",
    "  xs = jax.random.normal(nkey, (batch, V))\n",
    "  A = jnp.tensordot(xs,check_W,1)\n",
    "  key, nkey = jax.random.split(key)\n",
    "  noise = jax.random.normal(nkey,(batch, 1))\n",
    "  y = jnp.tensordot(xs, check_beta,1) + eta*noise\n",
    "  return A,y\n",
    "\n",
    "def square_loss(theta):\n",
    "  v=jnp.tensordot(check_W,theta,1) - check_beta\n",
    "  return jnp.sum(v*v)"
   ]
  }
 ],
 "metadata": {
  "kernelspec": {
   "display_name": "base",
   "language": "python",
   "name": "python3"
  },
  "language_info": {
   "codemirror_mode": {
    "name": "ipython",
    "version": 3
   },
   "file_extension": ".py",
   "mimetype": "text/x-python",
   "name": "python",
   "nbconvert_exporter": "python",
   "pygments_lexer": "ipython3",
   "version": "3.10.6"
  }
 },
 "nbformat": 4,
 "nbformat_minor": 2
}
