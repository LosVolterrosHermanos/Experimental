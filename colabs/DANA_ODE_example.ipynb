{
  "nbformat": 4,
  "nbformat_minor": 0,
  "metadata": {
    "colab": {
      "provenance": []
    },
    "kernelspec": {
      "name": "python3",
      "display_name": "Python 3"
    },
    "language_info": {
      "name": "python"
    }
  },
  "cells": [
    {
      "cell_type": "code",
      "execution_count": 1,
      "metadata": {
        "colab": {
          "base_uri": "https://localhost:8080/"
        },
        "id": "0F_jB0JwjcB8",
        "outputId": "b934511f-96f2-470a-ff34-45b503cbf489"
      },
      "outputs": [
        {
          "output_type": "stream",
          "name": "stdout",
          "text": [
            "Collecting git+https://github.com/LosVolterrosHermanos/Experimental.git\n",
            "  Cloning https://github.com/LosVolterrosHermanos/Experimental.git to /tmp/pip-req-build-rs5y8624\n",
            "  Running command git clone --filter=blob:none --quiet https://github.com/LosVolterrosHermanos/Experimental.git /tmp/pip-req-build-rs5y8624\n",
            "  Resolved https://github.com/LosVolterrosHermanos/Experimental.git to commit 635f9c89af8fc1404e741fb956ff61d97d04c02d\n",
            "  Preparing metadata (setup.py) ... \u001b[?25l\u001b[?25hdone\n",
            "Building wheels for collected packages: power_law_rf\n",
            "  Building wheel for power_law_rf (setup.py) ... \u001b[?25l\u001b[?25hdone\n",
            "  Created wheel for power_law_rf: filename=power_law_rf-0.1.0-py3-none-any.whl size=14643 sha256=05d7b6664ab9cb5b0e975f436283ad915ab2dac4e5af3ba974790bf9b6b1e4c3\n",
            "  Stored in directory: /tmp/pip-ephem-wheel-cache-471t5pvk/wheels/83/5c/ad/54ea86dd5918192bbeeb35964fd68597faf8e33c5c389f89f4\n",
            "Successfully built power_law_rf\n",
            "Installing collected packages: power_law_rf\n",
            "Successfully installed power_law_rf-0.1.0\n"
          ]
        }
      ],
      "source": [
        "!pip install git+https://github.com/LosVolterrosHermanos/Experimental.git"
      ]
    },
    {
      "cell_type": "code",
      "source": [
        "from power_law_rf.deterministic_equivalent import theory_limit_loss, theory_lambda_min, deterministic_rho_weights, theory_rhos\n",
        "from power_law_rf.ode import ODEInputs, DanaHparams, ode_resolvent_log_implicit"
      ],
      "metadata": {
        "id": "dA97KenNjyWu"
      },
      "execution_count": 2,
      "outputs": []
    },
    {
      "cell_type": "code",
      "source": [
        "import jax\n",
        "import jax.numpy as jnp\n",
        "import matplotlib.pyplot as plt\n",
        "import numpy as np"
      ],
      "metadata": {
        "id": "gIz72NTUkBeg"
      },
      "execution_count": 11,
      "outputs": []
    },
    {
      "cell_type": "code",
      "source": [
        "def get_optim_hparams(optim_name, alpha, beta, batch_size, D, traceK=None):\n",
        "  if traceK is None:\n",
        "    V = 4 * D\n",
        "    traceK = np.sum(\n",
        "        np.arange(1, V + 1, dtype=np.float32) ** (-2 * alpha)\n",
        "    ).item()\n",
        "  gamma2_mult = 0.375\n",
        "  gamma2 = gamma2_mult * min(2.0 / (batch_size + 1), 1.0 / traceK)\n",
        "  dana_delta = (\n",
        "      max(2.0 + (2.0 * beta - 1) / alpha, 2.0 - 1.0 / alpha) + 1.0\n",
        "  )\n",
        "  if optim_name == \"dana_sgd\":\n",
        "    return {\n",
        "        \"dana.gamma1\": 0.0,\n",
        "        \"dana.gamma2_mult\": gamma2_mult,\n",
        "        \"dana.gamma2\": gamma2,\n",
        "        \"dana.gamma3\": 0.0,\n",
        "        \"dana.gamma3_decay_exp\": 0.0,\n",
        "        \"dana.delta\": 0.0,\n",
        "        \"dana.delta_decay_exp\": 0.0,\n",
        "        \"dana.optimizer_name\": \"dana_sgd\",\n",
        "    }\n",
        "  elif optim_name == \"dana_constant\":\n",
        "    return {\n",
        "        \"dana.gamma1\": 1.0,\n",
        "        \"dana.gamma2_mult\": gamma2_mult,\n",
        "        \"dana.gamma2\": gamma2,\n",
        "        \"dana.gamma3\": 0.1 / (D * traceK),\n",
        "        \"dana.gamma3_decay_exp\": 0.0,  # no learning rate decay\n",
        "        \"dana.delta\": dana_delta,\n",
        "        \"dana.delta_decay_exp\": 1.0,\n",
        "        \"dana.optimizer_name\": \"dana_constant\",\n",
        "    }\n",
        "  elif optim_name == \"dana_decay\":\n",
        "    return {\n",
        "        \"dana.gamma1\": 1.0,\n",
        "        \"dana.gamma2_mult\": gamma2_mult,\n",
        "        \"dana.gamma2\": gamma2,\n",
        "        \"dana.gamma3\": 0.1,\n",
        "        \"dana.gamma3_decay_exp\": 1.0 / (2.0 * alpha),  # no learning rate decay\n",
        "        \"dana.delta\": dana_delta,\n",
        "        \"dana.delta_decay_exp\": 1.0,\n",
        "        \"dana.optimizer_name\": \"dana_decay\",\n",
        "    }\n",
        "  else:\n",
        "    raise ValueError(f\"Unknown optimizer: {optim_name}\")"
      ],
      "metadata": {
        "id": "EybVlY0gjdw3"
      },
      "execution_count": 3,
      "outputs": []
    },
    {
      "cell_type": "code",
      "source": [
        "def get_dana_hparams(optim, alpha, beta, D, V):\n",
        "  hparams = get_optim_hparams(optim, alpha, beta, 1, D)\n",
        "  g1, g2, g3 = hparams['dana.gamma1'], hparams['dana.gamma2'], hparams['dana.gamma3']\n",
        "  g3_decay_exp = hparams['dana.gamma3_decay_exp']\n",
        "  delta, delta_decay_exp = hparams['dana.delta'], hparams['dana.delta_decay_exp']\n",
        "  if delta_decay_exp == 0:\n",
        "    delta_fn = lambda count: delta\n",
        "  else:\n",
        "    delta_fn = lambda count: delta / ((count + 1) ** delta_decay_exp)\n",
        "  if g3_decay_exp == 0:  # dana constant\n",
        "    gamma3_fn = lambda count: g3\n",
        "  else:  # dana decay\n",
        "    gamma3_fn = lambda count: g3 / ((count + 1) ** g3_decay_exp)\n",
        "\n",
        "  dana_hparams = DanaHparams(lambda count: g1, lambda count: g2, gamma3_fn, delta_fn)\n",
        "  return dana_hparams"
      ],
      "metadata": {
        "id": "8-p1i-jgjiek"
      },
      "execution_count": 4,
      "outputs": []
    },
    {
      "cell_type": "code",
      "source": [
        "def theory_ode_inputs(alpha, beta, D, V):\n",
        "  fake_eigs, rho_init = theory_rhos(alpha, beta, D)\n",
        "  riskInftyTheory = theory_limit_loss(alpha, beta,V,D)\n",
        "  num_grid_points = D\n",
        "  chi_init = jnp.zeros(num_grid_points, dtype=jnp.float64)\n",
        "  sigma_init = jnp.zeros(num_grid_points, dtype=jnp.float64)\n",
        "  return ODEInputs(\n",
        "      fake_eigs.astype(jnp.float64),\n",
        "      rho_init.astype(jnp.float64),\n",
        "      chi_init,\n",
        "      sigma_init,\n",
        "      riskInftyTheory.astype(jnp.float64),\n",
        "  )"
      ],
      "metadata": {
        "id": "al39Z3jNjkPx"
      },
      "execution_count": 5,
      "outputs": []
    },
    {
      "cell_type": "code",
      "source": [
        "def get_experiment_steps(alpha, D, flops = 10**12):\n",
        "  minimum_steps = 1_000_000\n",
        "  convergence_steps = int(20 * D ** (2 * alpha))\n",
        "  flops_steps = int(flops / D)\n",
        "  num_steps = max(min(convergence_steps, flops_steps), minimum_steps)\n",
        "  return num_steps"
      ],
      "metadata": {
        "id": "0Rnj4LAkjklf"
      },
      "execution_count": 6,
      "outputs": []
    },
    {
      "cell_type": "code",
      "source": [
        "def run_ode(alpha, beta, D, V, optim, ode_input_type = 'theory', ode_inputs = None, sgd_batch = 1, ode_flops = None, Dt = 10 ** -2):\n",
        "  if ode_inputs is None:\n",
        "    if ode_input_type == 'theory':\n",
        "      ode_inputs = theory_ode_inputs(alpha, beta, D, V)\n",
        "    else:\n",
        "      raise ValueError(f'Unknown ode_input_type: {ode_input_type}')\n",
        "  hparams = get_dana_hparams(optim, alpha, beta, D, V)\n",
        "  if ode_flops is None:\n",
        "    ode_steps = get_experiment_steps(alpha, D)\n",
        "  else:\n",
        "    ode_steps = ode_flops // D\n",
        "  ode_times, ode_risks = ode_resolvent_log_implicit(ode_inputs, hparams, sgd_batch, D, ode_steps, Dt)\n",
        "  if ode_risks[-1] > 10:\n",
        "    print('Numerical instability in ODE risks.')\n",
        "  return ode_times, ode_risks"
      ],
      "metadata": {
        "id": "O2uEwVLOjtUe"
      },
      "execution_count": 7,
      "outputs": []
    },
    {
      "cell_type": "code",
      "source": [
        "alpha = 0.7\n",
        "beta = 0.8\n",
        "D = 800\n",
        "V = 4 * D\n",
        "batch = 1"
      ],
      "metadata": {
        "id": "ayJd4nwHkjCi"
      },
      "execution_count": 17,
      "outputs": []
    },
    {
      "cell_type": "code",
      "source": [
        "ode_times, ode_risks = run_ode(alpha, beta, D, V, 'dana_constant')"
      ],
      "metadata": {
        "colab": {
          "base_uri": "https://localhost:8080/"
        },
        "id": "hui-iayTj05w",
        "outputId": "443acd54-7d27-4184-ccd2-06f6a652c09e"
      },
      "execution_count": 18,
      "outputs": [
        {
          "output_type": "stream",
          "name": "stderr",
          "text": [
            "<ipython-input-5-f2e8c65670ee>:5: UserWarning: Explicitly requested dtype <class 'jax.numpy.float64'> requested in zeros is not available, and will be truncated to dtype float32. To enable more dtypes, set the jax_enable_x64 configuration option or the JAX_ENABLE_X64 shell environment variable. See https://github.com/jax-ml/jax#current-gotchas for more.\n",
            "  chi_init = jnp.zeros(num_grid_points, dtype=jnp.float64)\n",
            "<ipython-input-5-f2e8c65670ee>:6: UserWarning: Explicitly requested dtype <class 'jax.numpy.float64'> requested in zeros is not available, and will be truncated to dtype float32. To enable more dtypes, set the jax_enable_x64 configuration option or the JAX_ENABLE_X64 shell environment variable. See https://github.com/jax-ml/jax#current-gotchas for more.\n",
            "  sigma_init = jnp.zeros(num_grid_points, dtype=jnp.float64)\n",
            "/usr/local/lib/python3.11/dist-packages/jax/_src/numpy/array_methods.py:122: UserWarning: Explicitly requested dtype <class 'jax.numpy.float64'> requested in astype is not available, and will be truncated to dtype float32. To enable more dtypes, set the jax_enable_x64 configuration option or the JAX_ENABLE_X64 shell environment variable. See https://github.com/jax-ml/jax#current-gotchas for more.\n",
            "  return lax_numpy.astype(self, dtype, copy=copy, device=device)\n"
          ]
        }
      ]
    },
    {
      "cell_type": "code",
      "source": [
        "axarr = plt.axes()\n",
        "axarr.set_xlabel(\"flops\", fontsize = '28')\n",
        "axarr.set_ylabel(\"risk\", fontsize = '28')\n",
        "plt.title('alpha = {:,},'.format(alpha)+' beta = {:,}'.format(beta)+', d = {:,}'.format(D)+', batch = {:,}'.format(batch))\n",
        "\n",
        "plt.plot((ode_times) * (float(D)),ode_risks, label= 'dana constant, ode', linewidth = 3.0, c = 'blue', alpha = 0.6)\n",
        "\n",
        "plt.yscale('log')\n",
        "plt.xscale('log')\n",
        "plt.grid()\n",
        "\n",
        "leg = plt.legend(loc='upper right', fontsize='10')\n",
        "\n",
        "f_path = '/tmp/sgd_run.pdf'\n",
        "plt.savefig(f_path, dpi=500, bbox_inches = 'tight', transparent=True)"
      ],
      "metadata": {
        "colab": {
          "base_uri": "https://localhost:8080/",
          "height": 500
        },
        "id": "Z76q_a90j-AN",
        "outputId": "5b5ecf9b-eacb-4409-edef-7ad9d518d90f"
      },
      "execution_count": 20,
      "outputs": [
        {
          "output_type": "display_data",
          "data": {
            "text/plain": [
              "<Figure size 640x480 with 1 Axes>"
            ],
            "image/png": "[encoded data removed]"
          },
          "metadata": {}
        }
      ]
    },
    {
      "cell_type": "code",
      "source": [],
      "metadata": {
        "id": "ALfHZEHdkh6f"
      },
      "execution_count": null,
      "outputs": []
    }
  ]
}